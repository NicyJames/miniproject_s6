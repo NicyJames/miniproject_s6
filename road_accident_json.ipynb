{
  "nbformat": 4,
  "nbformat_minor": 0,
  "metadata": {
    "colab": {
      "provenance": []
    },
    "kernelspec": {
      "name": "python3",
      "display_name": "Python 3"
    },
    "language_info": {
      "name": "python"
    }
  },
  "cells": [
    {
      "cell_type": "code",
      "execution_count": 10,
      "metadata": {
        "colab": {
          "base_uri": "https://localhost:8080/"
        },
        "id": "I9cpJgg-UuIB",
        "outputId": "fad0df25-a5c7-42fb-9404-60b892f9128a"
      },
      "outputs": [
        {
          "output_type": "stream",
          "name": "stdout",
          "text": [
            "Combined data saved to JSON file: combined_scraped_data.json\n"
          ]
        }
      ],
      "source": [
        "import requests\n",
        "from bs4 import BeautifulSoup\n",
        "import json\n",
        "\n",
        "base_url = \"https://www.manoramaonline.com/tagresults.html?tag=mo%3Acrime%2Froadaccident&page=\"\n",
        "districts = [\"thiruvananthapuram\", \"kollam\", \"pathanamthitta\", \"alappuzha\",\n",
        "             \"kottayam\", \"idukki\", \"ernakulam\", \"thrissur\", \"palakkad\",\n",
        "             \"malappuram\", \"kozhikode\", \"wayanad\", \"kannur\", \"kasaragod\"]\n",
        "district_counts = {district: 0 for district in districts}\n",
        "title_counts = {}\n",
        "\n",
        "for page_number in range(1, 6):\n",
        "    url = base_url + str(page_number)\n",
        "    response = requests.get(url)\n",
        "\n",
        "    if response.status_code == 200:\n",
        "        soup = BeautifulSoup(response.content, \"html.parser\")\n",
        "        news_titles = soup.find_all('a', class_='cmp-story-list__pretitle')\n",
        "        for title_tag in news_titles:\n",
        "            title = title_tag.get('title')\n",
        "            if title in title_counts:\n",
        "                title_counts[title] += 1\n",
        "            else:\n",
        "                title_counts[title] = 1\n",
        "            for district in districts:\n",
        "                if district.lower() == title.lower():\n",
        "                    district_counts[district] += 1\n",
        "    else:\n",
        "        print(f\"Failed to retrieve page {page_number}. Status code: {response.status_code}\")\n",
        "\n",
        "# Combine data into a single dictionary\n",
        "combined_data = {\n",
        "    \"district_counts\": district_counts,\n",
        "    \"title_counts\": title_counts\n",
        "}\n",
        "\n",
        "# Save combined data to a JSON file\n",
        "json_file_path = 'combined_scraped_data.json'\n",
        "with open(json_file_path, 'w') as json_file:\n",
        "    json.dump(combined_data, json_file, indent=4)\n",
        "\n",
        "print(\"Combined data saved to JSON file:\", json_file_path)\n"
      ]
    },
    {
      "cell_type": "code",
      "source": [
        "import os\n",
        "\n",
        "# List files in the current directory\n",
        "files = os.listdir('.')\n",
        "print(\"Files in the current directory:\", files)\n",
        "\n"
      ],
      "metadata": {
        "colab": {
          "base_uri": "https://localhost:8080/"
        },
        "id": "Hh_VUMEHV12j",
        "outputId": "863bce99-f3d4-4d40-cf58-6320d77f9f0d"
      },
      "execution_count": 11,
      "outputs": [
        {
          "output_type": "stream",
          "name": "stdout",
          "text": [
            "Files in the current directory: ['.config', 'scraped_data_page_4.json', 'scraped_data_page_3.json', 'scraped_data_page_2.json', 'scraped_data_page_1.json', 'scraped_data_page_5.json', 'combined_scraped_data.json', 'sample_data']\n"
          ]
        }
      ]
    },
    {
      "cell_type": "code",
      "source": [
        "from google.colab import files\n",
        "\n",
        "# Replace 'scraped_data.json' with the name of your JSON file\n",
        "files.download('combined_scraped_data.json')\n"
      ],
      "metadata": {
        "colab": {
          "base_uri": "https://localhost:8080/",
          "height": 17
        },
        "id": "PzHmY1rGV3GY",
        "outputId": "18766124-a7fa-4eb8-ecf5-3b657e20e6da"
      },
      "execution_count": 12,
      "outputs": [
        {
          "output_type": "display_data",
          "data": {
            "text/plain": [
              "<IPython.core.display.Javascript object>"
            ],
            "application/javascript": [
              "\n",
              "    async function download(id, filename, size) {\n",
              "      if (!google.colab.kernel.accessAllowed) {\n",
              "        return;\n",
              "      }\n",
              "      const div = document.createElement('div');\n",
              "      const label = document.createElement('label');\n",
              "      label.textContent = `Downloading \"${filename}\": `;\n",
              "      div.appendChild(label);\n",
              "      const progress = document.createElement('progress');\n",
              "      progress.max = size;\n",
              "      div.appendChild(progress);\n",
              "      document.body.appendChild(div);\n",
              "\n",
              "      const buffers = [];\n",
              "      let downloaded = 0;\n",
              "\n",
              "      const channel = await google.colab.kernel.comms.open(id);\n",
              "      // Send a message to notify the kernel that we're ready.\n",
              "      channel.send({})\n",
              "\n",
              "      for await (const message of channel.messages) {\n",
              "        // Send a message to notify the kernel that we're ready.\n",
              "        channel.send({})\n",
              "        if (message.buffers) {\n",
              "          for (const buffer of message.buffers) {\n",
              "            buffers.push(buffer);\n",
              "            downloaded += buffer.byteLength;\n",
              "            progress.value = downloaded;\n",
              "          }\n",
              "        }\n",
              "      }\n",
              "      const blob = new Blob(buffers, {type: 'application/binary'});\n",
              "      const a = document.createElement('a');\n",
              "      a.href = window.URL.createObjectURL(blob);\n",
              "      a.download = filename;\n",
              "      div.appendChild(a);\n",
              "      a.click();\n",
              "      div.remove();\n",
              "    }\n",
              "  "
            ]
          },
          "metadata": {}
        },
        {
          "output_type": "display_data",
          "data": {
            "text/plain": [
              "<IPython.core.display.Javascript object>"
            ],
            "application/javascript": [
              "download(\"download_79c92d90-3890-47fd-882c-079ea478e2d4\", \"combined_scraped_data.json\", 838)"
            ]
          },
          "metadata": {}
        }
      ]
    },
    {
      "cell_type": "code",
      "source": [],
      "metadata": {
        "id": "YNhRxyrhW-Nl"
      },
      "execution_count": null,
      "outputs": []
    }
  ]
}